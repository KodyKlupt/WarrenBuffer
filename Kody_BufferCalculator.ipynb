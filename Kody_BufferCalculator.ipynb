{
 "cells": [
  {
   "cell_type": "markdown",
   "metadata": {},
   "source": [
    "This program is for calculating the components of buffers. It uses two files. One file contains the properties of 'dry' components with different molecular weights. The other contains one with 'wet' components that are supplied in concentration as molarity."
   ]
  },
  {
   "cell_type": "markdown",
   "metadata": {},
   "source": [
    "Execute the following code to ensure the files are properly loaded:"
   ]
  },
  {
   "cell_type": "code",
   "execution_count": 2,
   "metadata": {},
   "outputs": [
    {
     "name": "stdout",
     "output_type": "stream",
     "text": [
      "Requirement already satisfied: pandas in c:\\users\\kodyk\\appdata\\local\\packages\\pythonsoftwarefoundation.python.3.11_qbz5n2kfra8p0\\localcache\\local-packages\\python311\\site-packages (2.1.4)"
     ]
    },
    {
     "name": "stderr",
     "output_type": "stream",
     "text": [
      "\n",
      "[notice] A new release of pip is available: 23.2.1 -> 23.3.1\n",
      "[notice] To update, run: C:\\Users\\kodyk\\AppData\\Local\\Microsoft\\WindowsApps\\PythonSoftwareFoundation.Python.3.11_qbz5n2kfra8p0\\python.exe -m pip install --upgrade pip\n"
     ]
    },
    {
     "name": "stdout",
     "output_type": "stream",
     "text": [
      "\n",
      "Requirement already satisfied: numpy<2,>=1.23.2 in c:\\users\\kodyk\\appdata\\local\\packages\\pythonsoftwarefoundation.python.3.11_qbz5n2kfra8p0\\localcache\\local-packages\\python311\\site-packages (from pandas) (1.26.2)\n",
      "Requirement already satisfied: python-dateutil>=2.8.2 in c:\\users\\kodyk\\appdata\\local\\packages\\pythonsoftwarefoundation.python.3.11_qbz5n2kfra8p0\\localcache\\local-packages\\python311\\site-packages (from pandas) (2.8.2)\n",
      "Requirement already satisfied: pytz>=2020.1 in c:\\users\\kodyk\\appdata\\local\\packages\\pythonsoftwarefoundation.python.3.11_qbz5n2kfra8p0\\localcache\\local-packages\\python311\\site-packages (from pandas) (2023.3.post1)\n",
      "Requirement already satisfied: tzdata>=2022.1 in c:\\users\\kodyk\\appdata\\local\\packages\\pythonsoftwarefoundation.python.3.11_qbz5n2kfra8p0\\localcache\\local-packages\\python311\\site-packages (from pandas) (2023.3)\n",
      "Requirement already satisfied: six>=1.5 in c:\\users\\kodyk\\appdata\\local\\packages\\pythonsoftwarefoundation.python.3.11_qbz5n2kfra8p0\\localcache\\local-packages\\python311\\site-packages (from python-dateutil>=2.8.2->pandas) (1.16.0)\n",
      "Requirement already satisfied: ipywidgets in c:\\users\\kodyk\\appdata\\local\\packages\\pythonsoftwarefoundation.python.3.11_qbz5n2kfra8p0\\localcache\\local-packages\\python311\\site-packages (8.1.1)\n",
      "Requirement already satisfied: comm>=0.1.3 in c:\\users\\kodyk\\appdata\\local\\packages\\pythonsoftwarefoundation.python.3.11_qbz5n2kfra8p0\\localcache\\local-packages\\python311\\site-packages (from ipywidgets) (0.2.0)\n",
      "Requirement already satisfied: ipython>=6.1.0 in c:\\users\\kodyk\\appdata\\local\\packages\\pythonsoftwarefoundation.python.3.11_qbz5n2kfra8p0\\localcache\\local-packages\\python311\\site-packages (from ipywidgets) (8.18.1)\n",
      "Requirement already satisfied: traitlets>=4.3.1 in c:\\users\\kodyk\\appdata\\local\\packages\\pythonsoftwarefoundation.python.3.11_qbz5n2kfra8p0\\localcache\\local-packages\\python311\\site-packages (from ipywidgets) (5.14.0)\n",
      "Requirement already satisfied: widgetsnbextension~=4.0.9 in c:\\users\\kodyk\\appdata\\local\\packages\\pythonsoftwarefoundation.python.3.11_qbz5n2kfra8p0\\localcache\\local-packages\\python311\\site-packages (from ipywidgets) (4.0.9)\n",
      "Requirement already satisfied: jupyterlab-widgets~=3.0.9 in c:\\users\\kodyk\\appdata\\local\\packages\\pythonsoftwarefoundation.python.3.11_qbz5n2kfra8p0\\localcache\\local-packages\\python311\\site-packages (from ipywidgets) (3.0.9)\n",
      "Requirement already satisfied: decorator in c:\\users\\kodyk\\appdata\\local\\packages\\pythonsoftwarefoundation.python.3.11_qbz5n2kfra8p0\\localcache\\local-packages\\python311\\site-packages (from ipython>=6.1.0->ipywidgets) (5.1.1)\n",
      "Requirement already satisfied: jedi>=0.16 in c:\\users\\kodyk\\appdata\\local\\packages\\pythonsoftwarefoundation.python.3.11_qbz5n2kfra8p0\\localcache\\local-packages\\python311\\site-packages (from ipython>=6.1.0->ipywidgets) (0.19.1)\n",
      "Requirement already satisfied: matplotlib-inline in c:\\users\\kodyk\\appdata\\local\\packages\\pythonsoftwarefoundation.python.3.11_qbz5n2kfra8p0\\localcache\\local-packages\\python311\\site-packages (from ipython>=6.1.0->ipywidgets) (0.1.6)\n",
      "Requirement already satisfied: prompt-toolkit<3.1.0,>=3.0.41 in c:\\users\\kodyk\\appdata\\local\\packages\\pythonsoftwarefoundation.python.3.11_qbz5n2kfra8p0\\localcache\\local-packages\\python311\\site-packages (from ipython>=6.1.0->ipywidgets) (3.0.41)\n",
      "Requirement already satisfied: pygments>=2.4.0 in c:\\users\\kodyk\\appdata\\local\\packages\\pythonsoftwarefoundation.python.3.11_qbz5n2kfra8p0\\localcache\\local-packages\\python311\\site-packages (from ipython>=6.1.0->ipywidgets) (2.17.2)\n",
      "Requirement already satisfied: stack-data in c:\\users\\kodyk\\appdata\\local\\packages\\pythonsoftwarefoundation.python.3.11_qbz5n2kfra8p0\\localcache\\local-packages\\python311\\site-packages (from ipython>=6.1.0->ipywidgets) (0.6.3)\n",
      "Requirement already satisfied: colorama in c:\\users\\kodyk\\appdata\\local\\packages\\pythonsoftwarefoundation.python.3.11_qbz5n2kfra8p0\\localcache\\local-packages\\python311\\site-packages (from ipython>=6.1.0->ipywidgets) (0.4.6)\n",
      "Requirement already satisfied: parso<0.9.0,>=0.8.3 in c:\\users\\kodyk\\appdata\\local\\packages\\pythonsoftwarefoundation.python.3.11_qbz5n2kfra8p0\\localcache\\local-packages\\python311\\site-packages (from jedi>=0.16->ipython>=6.1.0->ipywidgets) (0.8.3)\n",
      "Requirement already satisfied: wcwidth in c:\\users\\kodyk\\appdata\\local\\packages\\pythonsoftwarefoundation.python.3.11_qbz5n2kfra8p0\\localcache\\local-packages\\python311\\site-packages (from prompt-toolkit<3.1.0,>=3.0.41->ipython>=6.1.0->ipywidgets) (0.2.12)\n",
      "Requirement already satisfied: executing>=1.2.0 in c:\\users\\kodyk\\appdata\\local\\packages\\pythonsoftwarefoundation.python.3.11_qbz5n2kfra8p0\\localcache\\local-packages\\python311\\site-packages (from stack-data->ipython>=6.1.0->ipywidgets) (2.0.1)\n",
      "Requirement already satisfied: asttokens>=2.1.0 in c:\\users\\kodyk\\appdata\\local\\packages\\pythonsoftwarefoundation.python.3.11_qbz5n2kfra8p0\\localcache\\local-packages\\python311\\site-packages (from stack-data->ipython>=6.1.0->ipywidgets) (2.4.1)\n",
      "Requirement already satisfied: pure-eval in c:\\users\\kodyk\\appdata\\local\\packages\\pythonsoftwarefoundation.python.3.11_qbz5n2kfra8p0\\localcache\\local-packages\\python311\\site-packages (from stack-data->ipython>=6.1.0->ipywidgets) (0.2.2)\n",
      "Requirement already satisfied: six>=1.12.0 in c:\\users\\kodyk\\appdata\\local\\packages\\pythonsoftwarefoundation.python.3.11_qbz5n2kfra8p0\\localcache\\local-packages\\python311\\site-packages (from asttokens>=2.1.0->stack-data->ipython>=6.1.0->ipywidgets) (1.16.0)\n"
     ]
    },
    {
     "name": "stderr",
     "output_type": "stream",
     "text": [
      "\n",
      "[notice] A new release of pip is available: 23.2.1 -> 23.3.1\n",
      "[notice] To update, run: C:\\Users\\kodyk\\AppData\\Local\\Microsoft\\WindowsApps\\PythonSoftwareFoundation.Python.3.11_qbz5n2kfra8p0\\python.exe -m pip install --upgrade pip\n"
     ]
    },
    {
     "name": "stdout",
     "output_type": "stream",
     "text": [
      "             WEIGHT\n",
      "DryChemical        \n",
      "TRIS            121\n",
      "NACL             54\n"
     ]
    }
   ],
   "source": [
    "!pip install pandas\n",
    "!pip install ipywidgets\n",
    "\n",
    "import pandas as pd\n",
    "import csv\n",
    "\n",
    "dry = pd.read_csv(\"dry.csv\", index_col=\"DryChemical\")  # this reads the data csv and uses the chemical name as the index for the data to eventually look up the MW\n",
    "print(dry.head())\n",
    "\n",
    "wet = pd.read_csv(\"wet.csv\", index_col=\"WetChemical\") #will index and search molarity instead\n",
    "print(wet)\n",
    "\n"
   ]
  },
  {
   "cell_type": "markdown",
   "metadata": {},
   "source": [
    "Now input the dry chemicals you need in all CAPS. If you are done with the dry goods type DONE."
   ]
  },
  {
   "cell_type": "code",
   "execution_count": 3,
   "metadata": {},
   "outputs": [
    {
     "name": "stdout",
     "output_type": "stream",
     "text": [
      "{'TRIS': 605, 'NACL': 54}\n"
     ]
    }
   ],
   "source": [
    "volumeinput = input(\"Enter the volume of the solution in L: \") #this is the input for the volume of the solution\n",
    "volumeinput = int(volumeinput)\n",
    "\n",
    "drydict = {} #this is the dictionary for the dry chemicals\n",
    "\n",
    "dryinput = input(\"Enter the dry chemical name in caps: \") #this is the input for the chemical name\n",
    "while dryinput != \"DONE\": #this is the loop that will keep asking for input until the user enters exit\n",
    "    promptmm = int(input(\"Enter the conc of the dry chemical in M: \")) #this is the input for the conc of the chemical\n",
    "    MW = dry.loc[dryinput, \"WEIGHT\"] #this looks up the MW of the chemical in the data csv\n",
    "    drymass = promptmm*MW*volumeinput #this calculates the mass of the chemical needed for the buffer\n",
    "    drydict.update({dryinput: drymass}) #this adds the chemical and its mass to the dictionary\n",
    "    dryinput = input(\"Enter the dry chemical name in caps: \") #this is the input for the chemical name\n",
    "print(drydict, \"note the values are all in grams\") #this prints the dictionary\n"
   ]
  },
  {
   "cell_type": "markdown",
   "metadata": {},
   "source": [
    "Now input the wet chemicals you need in all CAPS. If you are done with the dry goods type DONE."
   ]
  },
  {
   "cell_type": "markdown",
   "metadata": {},
   "source": [
    "volumeinput = input(\"Enter the volume of the solution in L: \") #this is the input for the volume of the solution\n",
    "volumeinput = int(volumeinput)\n",
    "\n",
    "wetdict = {} #this is the dictionary for the dry chemicals\n",
    "\n",
    "wetinput = input(\"Enter the wet chemical name in caps: \") #this is the input for the chemical name\n",
    "while wetinput != \"DONE\": #this is the loop that will keep asking for input until the user enters exit\n",
    "    promptmm = int(input(\"Enter the conc of the chemical in M: \")) #this is the input for the conc of the chemical\n",
    "    stock = wet.loc[wetinput, \"MOLARITY\"] #this looks up the MW of the chemical in the data csv\n",
    "    drymass = promptmm*MW*volumeinput #this calculates the mass of the chemical needed for the buffer\n",
    "    drydict.update({dryinput: drymass}) #this adds the chemical and its mass to the dictionary\n",
    "    dryinput = input(\"Enter the dry chemical name in caps: \") #this is the input for the chemical name\n",
    "print(drydict, \"note the values are all in grams\") #this prints the dictionary"
   ]
  },
  {
   "cell_type": "code",
   "execution_count": null,
   "metadata": {},
   "outputs": [],
   "source": [
    "volumeinput = input(\"Enter the volume of the solution in L: \") #this is the input for the volume of the solution\n",
    "volumeinput = int(volumeinput)\n",
    "\n",
    "wetdict = {} #this is the dictionary for the dry chemicals\n",
    "\n",
    "wetinput = input(\"Enter the wet chemical name in caps: \") #this is the input for the chemical name\n",
    "while wetinput != \"DONE\": #this is the loop that will keep asking for input until the user enters exit\n",
    "    promptmm = int(input(\"Enter the conc of the chemical in M: \")) #this is the input for the conc of the chemical\n",
    "    stock = wet.loc[wetinput, \"MOLARITY\"] #this looks up the MW of the chemical in the data csv\n",
    "    wetvol = volumeinput*promptmm/stock*1000 #this calculates the mass of the chemical needed for the buffer\n",
    "    wetdict.update({wetinput: wetvol}) #this adds the chemical and its mass to the dictionary\n",
    "    wetinput = input(\"Enter the dry chemical name in caps: \") #this is the input for the chemical name\n",
    "print(wetdict, \"note the values are all in mL\") #this prints the dictionary"
   ]
  }
 ],
 "metadata": {
  "kernelspec": {
   "display_name": "base",
   "language": "python",
   "name": "python3"
  },
  "language_info": {
   "codemirror_mode": {
    "name": "ipython",
    "version": 3
   },
   "file_extension": ".py",
   "mimetype": "text/x-python",
   "name": "python",
   "nbconvert_exporter": "python",
   "pygments_lexer": "ipython3",
   "version": "3.11.7"
  },
  "orig_nbformat": 4
 },
 "nbformat": 4,
 "nbformat_minor": 2
}
